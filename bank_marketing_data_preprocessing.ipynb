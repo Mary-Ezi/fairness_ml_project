{
 "cells": [
  {
   "cell_type": "code",
   "execution_count": 25,
   "metadata": {},
   "outputs": [],
   "source": [
    "import pandas as pd\n",
    "import numpy as np\n",
    "from sklearn.preprocessing import OneHotEncoder, MinMaxScaler, StandardScaler"
   ]
  },
  {
   "cell_type": "code",
   "execution_count": 26,
   "metadata": {},
   "outputs": [],
   "source": [
    "path = 'data/bank marketing/bank-full.csv'\n",
    "file_dataframe = pd.read_csv(path, delimiter=';')\n",
    "file_dataframe['subscription'] = file_dataframe['y']\n",
    "file_dataframe = file_dataframe.drop(columns=['y'])\n",
    "\n",
    "IGNORE_COLUMNS = []\n",
    "CATEGORICAL_COLUMNS =  ['job', 'marital', 'education', 'contact','month','poutcome', 'loan', 'default', 'housing']  \n",
    "LABEL_COLUMN = 'subscription'\n",
    "NUMERICAL_COLUMNS = list(set(file_dataframe.columns).difference(set(CATEGORICAL_COLUMNS + [LABEL_COLUMN])))\n",
    "\n",
    "print(NUMERICAL_COLUMNS)"
   ]
  },
  {
   "cell_type": "code",
   "execution_count": 27,
   "metadata": {},
   "outputs": [],
   "source": [
    "## Data Cleaning\n",
    "# Drop NAs\n",
    "file_dataframe.dropna(inplace=True)\n",
    "file_dataframe.drop(columns=IGNORE_COLUMNS, inplace=True)\n",
    "\n",
    "# Convert types\n",
    "for col in NUMERICAL_COLUMNS:\n",
    "    file_dataframe[col] = file_dataframe[col].astype(float)\n",
    "    \n",
    "for col in CATEGORICAL_COLUMNS:\n",
    "    file_dataframe[col] = file_dataframe[col].astype('category')\n",
    "\n",
    "file_dataframe.replace({\"no\": False, \"yes\": True}, inplace=True)\n",
    "file_dataframe[LABEL_COLUMN] = file_dataframe[LABEL_COLUMN].astype(bool)"
   ]
  },
  {
   "cell_type": "code",
   "execution_count": 28,
   "metadata": {},
   "outputs": [],
   "source": [
    "def one_hot_encode(dataframe):\n",
    "    encoder = OneHotEncoder(handle_unknown='ignore')\n",
    "    categorical_columns_df = pd.DataFrame(encoder.fit_transform(dataframe[CATEGORICAL_COLUMNS]).toarray())\n",
    "    categorical_columns_df.columns = encoder.get_feature_names_out(CATEGORICAL_COLUMNS)\n",
    "    dataframe = pd.concat([dataframe, categorical_columns_df], axis=1)\n",
    "    return dataframe\n",
    "file_dataframe = one_hot_encode(file_dataframe)"
   ]
  },
  {
   "cell_type": "code",
   "execution_count": 29,
   "metadata": {},
   "outputs": [],
   "source": [
    "def min_max_scaling(dataframe):\n",
    "    scaler = MinMaxScaler()\n",
    "    for i in NUMERICAL_COLUMNS:\n",
    "        dataframe[i] = scaler.fit_transform(dataframe[[i]])\n",
    "    return dataframe\n",
    "# file_dataframe = min_max_scaling(file_dataframe)\n",
    "\n",
    "def standard_scaling(dataframe):\n",
    "    scaler = StandardScaler()\n",
    "    for i in NUMERICAL_COLUMNS:\n",
    "        dataframe[i] = scaler.fit_transform(dataframe[[i]])\n",
    "    return dataframe\n",
    "# file_dataframe = standard_scaling(file_dataframe)"
   ]
  },
  {
   "cell_type": "code",
   "execution_count": 30,
   "metadata": {},
   "outputs": [],
   "source": [
    "for i in NUMERICAL_COLUMNS:\n",
    "    print(i)\n",
    "    print(np.any(np.isnan(file_dataframe[i])))\n",
    "    print(np.all(np.isfinite(file_dataframe[i])))\n",
    "# file_dataframe.to_csv(\"data/bank marketing/bank-preprocessed.csv\", index=False)"
   ]
  }
 ],
 "metadata": {
  "interpreter": {
   "hash": "2afc3b7ee2fb652a9160709bc7e3e62fe7209a9e9efd42aa830a9fd06b5f7b76"
  },
  "kernelspec": {
   "display_name": "Python 3 (ipykernel)",
   "language": "python",
   "name": "python3"
  },
  "language_info": {
   "codemirror_mode": {
    "name": "ipython",
    "version": 3
   },
   "file_extension": ".py",
   "mimetype": "text/x-python",
   "name": "python",
   "nbconvert_exporter": "python",
   "pygments_lexer": "ipython3",
   "version": "3.9.7"
  }
 },
 "nbformat": 4,
 "nbformat_minor": 2
}
