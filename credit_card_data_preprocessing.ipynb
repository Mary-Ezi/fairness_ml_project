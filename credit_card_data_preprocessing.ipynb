{
 "cells": [
  {
   "cell_type": "code",
   "execution_count": 127,
   "metadata": {},
   "outputs": [],
   "source": [
    "import pandas as pd\n",
    "import numpy as np\n",
    "from sklearn.preprocessing import OneHotEncoder, MinMaxScaler, StandardScaler"
   ]
  },
  {
   "cell_type": "code",
   "execution_count": 128,
   "metadata": {},
   "outputs": [],
   "source": [
    "path = 'data/credit card/default of credit card clients.xls'\n",
    "file_dataframe = pd.read_excel(path, skiprows=[0])\n",
    "\n",
    "IGNORE_COLUMNS = ['ID']\n",
    "CATEGORICAL_COLUMNS = ['EDUCATION', 'MARRIAGE', 'PAY_0', 'PAY_2', 'PAY_3', 'PAY_4', 'PAY_5', 'PAY_6', 'SEX']\n",
    "LABEL_COLUMN = 'default payment next month'\n",
    "NUMERICAL_COLUMNS = list(set(file_dataframe.columns).difference(set(CATEGORICAL_COLUMNS + IGNORE_COLUMNS + [LABEL_COLUMN])))"
   ]
  },
  {
   "cell_type": "code",
   "execution_count": 129,
   "metadata": {},
   "outputs": [],
   "source": [
    "## Data Cleaning\n",
    "# Drop NAs\n",
    "file_dataframe.dropna(inplace=True)\n",
    "file_dataframe.drop(columns=IGNORE_COLUMNS, inplace=True)\n",
    "\n",
    "# Rename cloumns\n",
    "# sex values into explanatory string value\n",
    "file_dataframe.SEX.replace({1: 'Male', 2: 'Female'}, inplace=True)\n",
    "# education values into explanatory string value\n",
    "file_dataframe.EDUCATION.replace({1: 'Graduate school', 2: 'University', 3: 'High school', 4: 'Others'}, inplace=True)\n",
    "# marriage values into explanatory string value\n",
    "file_dataframe.MARRIAGE.replace({1: 'Married', 2: 'Single', 3: 'Other'}, inplace=True)\n",
    "\n",
    "# filter noisy records\n",
    "file_dataframe = file_dataframe[file_dataframe.EDUCATION.isin(['Graduate school', 'University', 'High school', 'Others'])]\n",
    "file_dataframe = file_dataframe[file_dataframe.MARRIAGE != 0]\n",
    "# Convert types\n",
    "for col in NUMERICAL_COLUMNS:\n",
    "    file_dataframe[col] = file_dataframe[col].astype(float)\n",
    "    \n",
    "for col in CATEGORICAL_COLUMNS:\n",
    "    file_dataframe[col] = file_dataframe[col].astype('category')\n",
    "\n",
    "file_dataframe.replace({\"no\": False, \"yes\": True}, inplace=True)\n",
    "file_dataframe[LABEL_COLUMN] = file_dataframe[LABEL_COLUMN].astype(bool)"
   ]
  },
  {
   "cell_type": "code",
   "execution_count": 130,
   "metadata": {},
   "outputs": [],
   "source": [
    "def one_hot_encode(dataframe):\n",
    "    encoder = OneHotEncoder(handle_unknown='ignore')\n",
    "    categorical_columns_df = pd.DataFrame(encoder.fit_transform(dataframe[CATEGORICAL_COLUMNS]).toarray())\n",
    "    categorical_columns_df.columns = encoder.get_feature_names_out(CATEGORICAL_COLUMNS)\n",
    "    dataframe = pd.concat([dataframe, categorical_columns_df], axis=1)\n",
    "    dataframe.dropna(inplace=True) \n",
    "    return dataframe\n",
    "file_dataframe = one_hot_encode(file_dataframe)"
   ]
  },
  {
   "cell_type": "code",
   "execution_count": 131,
   "metadata": {},
   "outputs": [],
   "source": [
    "def min_max_scaling(dataframe):\n",
    "    scaler = MinMaxScaler()\n",
    "    for i in NUMERICAL_COLUMNS:\n",
    "        dataframe[i] = scaler.fit_transform(dataframe[[i]])\n",
    "    return dataframe\n",
    "# file_dataframe = min_max_scaling(file_dataframe)\n",
    "\n",
    "def standard_scaling(dataframe):\n",
    "    scaler = StandardScaler()\n",
    "    for i in NUMERICAL_COLUMNS:\n",
    "        dataframe[i] = scaler.fit_transform(dataframe[[i]])\n",
    "    return dataframe\n",
    "# file_dataframe = standard_scaling(file_dataframe)"
   ]
  },
  {
   "cell_type": "code",
   "execution_count": 132,
   "metadata": {},
   "outputs": [
    {
     "name": "stdout",
     "output_type": "stream",
     "text": [
      "   LIMIT_BAL     SEX   EDUCATION MARRIAGE   AGE PAY_0 PAY_2 PAY_3 PAY_4 PAY_5  \\\n",
      "0    20000.0  Female  University        m  24.0     2     2    -1    -1    -2   \n",
      "1   120000.0  Female  University        s  26.0    -1     2     0     0     0   \n",
      "2    90000.0  Female  University        s  34.0     0     0     0     0     0   \n",
      "3    50000.0  Female  University        m  37.0     0     0     0     0     0   \n",
      "4    50000.0    Male  University        m  57.0    -1     0    -1     0     0   \n",
      "\n",
      "   ... PAY_6_0  PAY_6_2  PAY_6_3  PAY_6_4  PAY_6_5  PAY_6_6  PAY_6_7  PAY_6_8  \\\n",
      "0  ...     0.0      0.0      0.0      0.0      0.0      0.0      0.0      0.0   \n",
      "1  ...     0.0      1.0      0.0      0.0      0.0      0.0      0.0      0.0   \n",
      "2  ...     1.0      0.0      0.0      0.0      0.0      0.0      0.0      0.0   \n",
      "3  ...     1.0      0.0      0.0      0.0      0.0      0.0      0.0      0.0   \n",
      "4  ...     1.0      0.0      0.0      0.0      0.0      0.0      0.0      0.0   \n",
      "\n",
      "   SEX_Female  SEX_Male  \n",
      "0         1.0       0.0  \n",
      "1         1.0       0.0  \n",
      "2         1.0       0.0  \n",
      "3         1.0       0.0  \n",
      "4         0.0       1.0  \n",
      "\n",
      "[5 rows x 97 columns]\n"
     ]
    }
   ],
   "source": [
    "# for i in NUMERICAL_COLUMNS:\n",
    "#     print(i)\n",
    "#     print(np.any(np.isnan(file_dataframe[i])))\n",
    "#     print(np.all(np.isfinite(file_dataframe[i])))\n",
    "\n",
    "# file_dataframe['MARRIAGE'].loc[file_dataframe['MARRIAGE'] == \"Married\"] = 'm'\n",
    "# file_dataframe['MARRIAGE'].loc[file_dataframe['MARRIAGE'] == \"Single\"] = 's'\n",
    "# file_dataframe.loc[file_dataframe['MARRIAGE'] == \"Married\", LABEL_COLUMN] = 'm'\n",
    "# file_dataframe.loc[file_dataframe['MARRIAGE'] == \"Single\", LABEL_COLUMN] = 's'\n",
    "# file_dataframe['PAY_0'].loc[file_dataframe['PAY_0'] == -1] = 5\n",
    "# file_dataframe['PAY_0'].loc[file_dataframe['PAY_0'] == 0] = 10\n",
    "file_dataframe['MARRIAGE'].replace({'Married' : \"m\", 'Single': \"s\"}, inplace=True)\n",
    "print(file_dataframe.head())\n",
    "# file_dataframe.to_csv(\"data/credit card/credit-card-preprocessed.csv\", index=False)"
   ]
  }
 ],
 "metadata": {
  "interpreter": {
   "hash": "2afc3b7ee2fb652a9160709bc7e3e62fe7209a9e9efd42aa830a9fd06b5f7b76"
  },
  "kernelspec": {
   "display_name": "Python 3 (ipykernel)",
   "language": "python",
   "name": "python3"
  },
  "language_info": {
   "codemirror_mode": {
    "name": "ipython",
    "version": 3
   },
   "file_extension": ".py",
   "mimetype": "text/x-python",
   "name": "python",
   "nbconvert_exporter": "python",
   "pygments_lexer": "ipython3",
   "version": "3.9.7"
  }
 },
 "nbformat": 4,
 "nbformat_minor": 2
}
